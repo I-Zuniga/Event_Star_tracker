{
 "cells": [
  {
   "cell_type": "code",
   "execution_count": 1,
   "metadata": {},
   "outputs": [],
   "source": [
    "import numpy as np\n",
    "import matplotlib.pyplot as plt\n",
    "import pandas as pd\n",
    "from shapely.geometry import box, Point, LineString\n",
    "from shapely import affinity\n",
    "import math\n",
    "\n",
    "import os\n",
    "path = os.getcwd()\n",
    "# Get parent directory\n",
    "parent = os.path.dirname(path)\n",
    "#Add parent directory to system path\n",
    "os.sys.path.insert(0, parent)\n",
    "\n",
    "\n",
    "from lib.utils import *\n",
    "from lib.plot_utils import *   \n",
    "from lib.event_processing import *\n"
   ]
  },
  {
   "cell_type": "code",
   "execution_count": null,
   "metadata": {},
   "outputs": [],
   "source": [
    "def log_polar_transform(x, y, x0, y0):\n",
    "    ''' \n",
    "    Transforms x, y coordinates to log polar coordinates\n",
    "    \n",
    "    Parameters:\n",
    "    x, y: float\n",
    "        Cartesian coordinates\n",
    "    x0, y0: float\n",
    "        Center of the log polar coordinates (reference star)\n",
    "        \n",
    "    Returns:\n",
    "    r, theta: float\n",
    "        Log polar coordinates\n",
    "        \n",
    "    '''\n",
    "    r = np.sqrt((x - x0)**2 + (y - y0)**2)\n",
    "    theta = np.arctan2(y - y0, x - x0)\n",
    "    return r, theta\n",
    "\n",
    "def mod_log_polar_transform(x, y, x0, y0, k , chi):\n",
    "    ''' \n",
    "    Transforms x, y coordinates to log polar coordinates ading normalization\n",
    "    \n",
    "    Parameters:\n",
    "    x, y: float\n",
    "        Cartesian coordinates\n",
    "    x0, y0: float\n",
    "        Center of the log polar coordinates (reference star)\n",
    "    \n",
    "    k: float\n",
    "        Normalization factor\n",
    "        \n",
    "    chi: float\n",
    "        Normalization factor\n",
    "        \n",
    "    Returns:\n",
    "    r, theta: float\n",
    "        Modified Log polar coordinates\n",
    "        \n",
    "    '''\n",
    "    r = chi - k * np.sqrt((x - x0)**2 + (y - y0)**2)\n",
    "    theta = np.arctan2(y - y0, x - x0)\n",
    "    return r, theta"
   ]
  }
 ],
 "metadata": {
  "kernelspec": {
   "display_name": "Python 3",
   "language": "python",
   "name": "python3"
  },
  "language_info": {
   "codemirror_mode": {
    "name": "ipython",
    "version": 3
   },
   "file_extension": ".py",
   "mimetype": "text/x-python",
   "name": "python",
   "nbconvert_exporter": "python",
   "pygments_lexer": "ipython3",
   "version": "3.10.12"
  }
 },
 "nbformat": 4,
 "nbformat_minor": 2
}
